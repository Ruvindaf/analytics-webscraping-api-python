import requests
from bs4 import BeautifulSoup
import pandas as pd
from datetime import datetime, timedelta

# def. a Function to scrape the exchange rate for a given date
def scrape_exchange_rate(date):
    url = f'https://www.x-rates.com/historical/?from=LKR&amount=1&date={date}'
    response = requests.get(url)
    soup = BeautifulSoup(response.content, 'html.parser')

    # Finding the table containing the exchange rates
    table = soup.find('table')
    
    if table:
        # Extracting the table headers
        headers = [header.text.strip() for header in table.find_all('th')]
        # Extracting the table rows
        rows = table.find_all('tr')[1:]  # Skipping the header row
        
        for row in rows:
            cols = row.find_all('td')
            if len(cols) >= 3 and cols[0].text.strip() == 'US Dollar':
                return date, float(cols[2].text.strip().replace(',', ''))
    
    return date, None

# Date range of the analysis
start_date = datetime(2019, 1, 1)
end_date = datetime(2024, 4, 30)

# Create a list to store the results
data1 = []

# Loop over each date in the range
current_date = start_date
while current_date <= end_date:
    date_str = current_date.strftime('%Y-%m-%d')
    date, rate = scrape_exchange_rate(date_str)
    if rate:
        data1.append([date, rate])
        
    else:
        print(f"Failed to scrape data for {date}")
    current_date += timedelta(days=1)

# Converting the data to a DataFrame 
df_usd = pd.DataFrame(data1, columns=['Date', 'USD/LKR'])

print("Data scraping complete. Saved to usd_lkr_exchange_rates.csv")
df_usd.head()
